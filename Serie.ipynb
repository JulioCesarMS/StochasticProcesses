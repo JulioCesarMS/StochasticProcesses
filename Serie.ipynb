{
  "nbformat": 4,
  "nbformat_minor": 0,
  "metadata": {
    "colab": {
      "name": "Serie.ipynb",
      "provenance": [],
      "authorship_tag": "ABX9TyPdP2CvbbkUGdZ2p9eDLWMO",
      "include_colab_link": true
    },
    "kernelspec": {
      "name": "ir",
      "display_name": "R"
    },
    "language_info": {
      "name": "R"
    }
  },
  "cells": [
    {
      "cell_type": "markdown",
      "metadata": {
        "id": "view-in-github",
        "colab_type": "text"
      },
      "source": [
        "<a href=\"https://colab.research.google.com/github/JulioCesarMS/StochasticProcesses/blob/main/Serie.ipynb\" target=\"_parent\"><img src=\"https://colab.research.google.com/assets/colab-badge.svg\" alt=\"Open In Colab\"/></a>"
      ]
    },
    {
      "cell_type": "code",
      "execution_count": null,
      "metadata": {
        "id": "HfP33P7QU7Dn"
      },
      "outputs": [],
      "source": [
        "Serie"
      ]
    },
    {
      "cell_type": "markdown",
      "source": [
        "\\begin{equation}\n",
        "S = \\sum_{n=3}^{\\infty} (n-2) r^{n-1},  \\ \\ \\ 0<r<1\n",
        "\\end{equation}"
      ],
      "metadata": {
        "id": "PvYU2bsbVD4U"
      }
    },
    {
      "cell_type": "code",
      "source": [
        "# función\n",
        "serie <- function(r, n){\n",
        "  Sn <- 0\n",
        "  for(i in 3:n){\n",
        "  Sn <- Sn + (i-2)*r^(i-1)\n",
        "  }\n",
        "  return(Sn)\n",
        "}"
      ],
      "metadata": {
        "id": "pE_kDLOjVCI6"
      },
      "execution_count": 2,
      "outputs": []
    },
    {
      "cell_type": "code",
      "source": [
        "# verificación\n",
        "serie(r=0.5, n=3)"
      ],
      "metadata": {
        "colab": {
          "base_uri": "https://localhost:8080/",
          "height": 34
        },
        "id": "cS2DbBQRVOq1",
        "outputId": "cb944ceb-1fab-4776-ff56-17c0dd8abc7a"
      },
      "execution_count": 3,
      "outputs": [
        {
          "output_type": "display_data",
          "data": {
            "text/html": [
              "0.25"
            ],
            "text/markdown": "0.25",
            "text/latex": "0.25",
            "text/plain": [
              "[1] 0.25"
            ]
          },
          "metadata": {}
        }
      ]
    },
    {
      "cell_type": "code",
      "source": [
        "# verificación para n=10\n",
        "serie(r=0.5, n=10)"
      ],
      "metadata": {
        "colab": {
          "base_uri": "https://localhost:8080/",
          "height": 34
        },
        "id": "Yxyv6lzjVZAN",
        "outputId": "dab0f9e4-2b00-4aaa-db31-31cf1250d4e2"
      },
      "execution_count": 4,
      "outputs": [
        {
          "output_type": "display_data",
          "data": {
            "text/html": [
              "0.98046875"
            ],
            "text/markdown": "0.98046875",
            "text/latex": "0.98046875",
            "text/plain": [
              "[1] 0.9804688"
            ]
          },
          "metadata": {}
        }
      ]
    },
    {
      "cell_type": "code",
      "source": [
        "# verificación para n=10\n",
        "serie(r=0.5, n=1000)"
      ],
      "metadata": {
        "colab": {
          "base_uri": "https://localhost:8080/",
          "height": 34
        },
        "id": "atN87IprVe-o",
        "outputId": "b3156c0e-bf91-4971-8ac5-1f22f3088e6b"
      },
      "execution_count": 5,
      "outputs": [
        {
          "output_type": "display_data",
          "data": {
            "text/html": [
              "1"
            ],
            "text/markdown": "1",
            "text/latex": "1",
            "text/plain": [
              "[1] 1"
            ]
          },
          "metadata": {}
        }
      ]
    }
  ]
}