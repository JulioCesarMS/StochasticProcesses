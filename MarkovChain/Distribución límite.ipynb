{
 "cells": [
  {
   "cell_type": "markdown",
   "metadata": {},
   "source": [
    "# Procesos estocásticos"
   ]
  },
  {
   "cell_type": "markdown",
   "metadata": {},
   "source": [
    "## Distribución límite "
   ]
  },
  {
   "cell_type": "markdown",
   "metadata": {},
   "source": [
    "Consideremos la Cadena de Markov (CM) con dos estados $\\{0,1\\}$\n",
    "\n",
    "$$\\textbf{P} =\n",
    "\\begin{pmatrix}\n",
    "1-a  & a \\\\\n",
    "b    & 1-b\n",
    "\\end{pmatrix}$$\n",
    "\n",
    "con $a>0$, y $b<1$."
   ]
  },
  {
   "cell_type": "markdown",
   "metadata": {},
   "source": [
    "Se puede verificar que \n",
    "\n",
    "$$\\textbf{P}^{(n)} = \n",
    "\\frac{1}{a+b}\n",
    "\\begin{pmatrix}\n",
    "b  & a \\\\\n",
    "b    & a\n",
    "\\end{pmatrix}\n",
    "+\n",
    "\\frac{(1-a+b)^n}{a+b}\n",
    "\\begin{pmatrix}\n",
    "a  & -a \\\\\n",
    "-b    & b\n",
    "\\end{pmatrix}\n",
    "$$\n",
    "\n",
    "Como $|1-a-b| < 1$, entonces, $(1-a-b)^n \\rightarrow 0$ cuando $n \\rightarrow \\infty$, entonces\n",
    "\n",
    "\n",
    "\\begin{equation}\n",
    "\\textbf{P}^{(n)} = \n",
    "\\frac{1}{a+b}\n",
    "\\begin{pmatrix}\n",
    "b  & a \\\\\n",
    "b    & a\n",
    "\\end{pmatrix}\n",
    "\\end{equation}"
   ]
  },
  {
   "cell_type": "code",
   "execution_count": 3,
   "metadata": {},
   "outputs": [],
   "source": [
    "# Definimos\n",
    "a <- 0.1  # a>0\n",
    "b <- 0.45 # b<1\n"
   ]
  },
  {
   "cell_type": "code",
   "execution_count": 5,
   "metadata": {},
   "outputs": [
    {
     "name": "stdout",
     "output_type": "stream",
     "text": [
      "     [,1] [,2]\n",
      "[1,] 0.90 0.10\n",
      "[2,] 0.45 0.55\n"
     ]
    }
   ],
   "source": [
    "# definimos nuestra matriz\n",
    "P <- matrix(c(1-a, a, b, 1-b), ncol=2, byrow = TRUE)\n",
    "print(P)"
   ]
  },
  {
   "cell_type": "code",
   "execution_count": 14,
   "metadata": {},
   "outputs": [],
   "source": [
    "# Función para calcular la potencia de una matriz\n",
    "mat.pow <- function(m, n){\n",
    "  # inputs:\n",
    "  #   m : matriz \n",
    "  #   n : potencia\n",
    "  # outputs:\n",
    "  #   Mn : matriz potencia n\n",
    "  for(i in 1:n){\n",
    "    if(i == 1){\n",
    "      Mn <- m\n",
    "    }else{\n",
    "      Mn <- Mn%*%m\n",
    "    }\n",
    "  }\n",
    "  return(Mn)\n",
    "}"
   ]
  },
  {
   "cell_type": "markdown",
   "metadata": {},
   "source": [
    "## Matriz de transición a dos pasos"
   ]
  },
  {
   "cell_type": "code",
   "execution_count": 6,
   "metadata": {},
   "outputs": [
    {
     "name": "stdout",
     "output_type": "stream",
     "text": [
      "       [,1]   [,2]\n",
      "[1,] 0.8550 0.1450\n",
      "[2,] 0.6525 0.3475\n"
     ]
    }
   ],
   "source": [
    "# p^2 \n",
    "P2 <- mat.pow(P, n=2)\n",
    "print(P2)"
   ]
  },
  {
   "cell_type": "markdown",
   "metadata": {},
   "source": [
    "Matriz de transición de 10 pasos"
   ]
  },
  {
   "cell_type": "code",
   "execution_count": 40,
   "metadata": {},
   "outputs": [
    {
     "name": "stdout",
     "output_type": "stream",
     "text": [
      "          [,1]      [,2]\n",
      "[1,] 0.8182437 0.1817563\n",
      "[2,] 0.8179032 0.1820968\n"
     ]
    }
   ],
   "source": [
    "# P^10\n",
    "P10 <- mat.pow(P, n=10)\n",
    "print(P10)"
   ]
  },
  {
   "cell_type": "markdown",
   "metadata": {},
   "source": [
    "Matriz de transición de 20 pasos"
   ]
  },
  {
   "cell_type": "code",
   "execution_count": 51,
   "metadata": {},
   "outputs": [
    {
     "name": "stdout",
     "output_type": "stream",
     "text": [
      "          [,1]      [,2]\n",
      "[1,] 0.8181818 0.1818182\n",
      "[2,] 0.8181817 0.1818183\n"
     ]
    }
   ],
   "source": [
    "# P^20\n",
    "P31 <- mat.pow(P, n=20)\n",
    "print(P31)"
   ]
  },
  {
   "cell_type": "markdown",
   "metadata": {},
   "source": [
    "Podemos observar que los renglones de cada columna son casi iguales. Vamos a calcular la matriz estocástica para valores mayores de $n$."
   ]
  },
  {
   "cell_type": "code",
   "execution_count": 28,
   "metadata": {},
   "outputs": [
    {
     "name": "stdout",
     "output_type": "stream",
     "text": [
      "Matriz de probabilidades de transición a n= 1 pasos \n",
      "     [,1] [,2]\n",
      "[1,] 0.90 0.10\n",
      "[2,] 0.45 0.55\n",
      "Matriz de probabilidades de transición a n= 2 pasos \n",
      "       [,1]   [,2]\n",
      "[1,] 0.8550 0.1450\n",
      "[2,] 0.6525 0.3475\n",
      "Matriz de probabilidades de transición a n= 3 pasos \n",
      "         [,1]     [,2]\n",
      "[1,] 0.834750 0.165250\n",
      "[2,] 0.743625 0.256375\n",
      "Matriz de probabilidades de transición a n= 4 pasos \n",
      "          [,1]      [,2]\n",
      "[1,] 0.8256375 0.1743625\n",
      "[2,] 0.7846313 0.2153688\n",
      "Matriz de probabilidades de transición a n= 5 pasos \n",
      "          [,1]      [,2]\n",
      "[1,] 0.8215369 0.1784631\n",
      "[2,] 0.8030841 0.1969159\n",
      "Matriz de probabilidades de transición a n= 6 pasos \n",
      "          [,1]      [,2]\n",
      "[1,] 0.8196916 0.1803084\n",
      "[2,] 0.8113878 0.1886122\n",
      "Matriz de probabilidades de transición a n= 7 pasos \n",
      "          [,1]      [,2]\n",
      "[1,] 0.8188612 0.1811388\n",
      "[2,] 0.8151245 0.1848755\n",
      "Matriz de probabilidades de transición a n= 8 pasos \n",
      "          [,1]      [,2]\n",
      "[1,] 0.8184875 0.1815125\n",
      "[2,] 0.8168060 0.1831940\n",
      "Matriz de probabilidades de transición a n= 9 pasos \n",
      "          [,1]      [,2]\n",
      "[1,] 0.8183194 0.1816806\n",
      "[2,] 0.8175627 0.1824373\n",
      "Matriz de probabilidades de transición a n= 10 pasos \n",
      "          [,1]      [,2]\n",
      "[1,] 0.8182437 0.1817563\n",
      "[2,] 0.8179032 0.1820968\n",
      "Matriz de probabilidades de transición a n= 11 pasos \n",
      "          [,1]      [,2]\n",
      "[1,] 0.8182097 0.1817903\n",
      "[2,] 0.8180564 0.1819436\n",
      "Matriz de probabilidades de transición a n= 12 pasos \n",
      "          [,1]      [,2]\n",
      "[1,] 0.8181944 0.1818056\n",
      "[2,] 0.8181254 0.1818746\n",
      "Matriz de probabilidades de transición a n= 13 pasos \n",
      "          [,1]      [,2]\n",
      "[1,] 0.8181875 0.1818125\n",
      "[2,] 0.8181564 0.1818436\n",
      "Matriz de probabilidades de transición a n= 14 pasos \n",
      "          [,1]      [,2]\n",
      "[1,] 0.8181844 0.1818156\n",
      "[2,] 0.8181704 0.1818296\n",
      "Matriz de probabilidades de transición a n= 15 pasos \n",
      "          [,1]      [,2]\n",
      "[1,] 0.8181830 0.1818170\n",
      "[2,] 0.8181767 0.1818233\n",
      "Matriz de probabilidades de transición a n= 16 pasos \n",
      "          [,1]      [,2]\n",
      "[1,] 0.8181823 0.1818177\n",
      "[2,] 0.8181795 0.1818205\n",
      "Matriz de probabilidades de transición a n= 17 pasos \n",
      "          [,1]      [,2]\n",
      "[1,] 0.8181820 0.1818180\n",
      "[2,] 0.8181808 0.1818192\n",
      "Matriz de probabilidades de transición a n= 18 pasos \n",
      "          [,1]      [,2]\n",
      "[1,] 0.8181819 0.1818181\n",
      "[2,] 0.8181813 0.1818187\n",
      "Matriz de probabilidades de transición a n= 19 pasos \n",
      "          [,1]      [,2]\n",
      "[1,] 0.8181819 0.1818181\n",
      "[2,] 0.8181816 0.1818184\n",
      "Matriz de probabilidades de transición a n= 20 pasos \n",
      "          [,1]      [,2]\n",
      "[1,] 0.8181818 0.1818182\n",
      "[2,] 0.8181817 0.1818183\n",
      "Matriz de probabilidades de transición a n= 21 pasos \n",
      "          [,1]      [,2]\n",
      "[1,] 0.8181818 0.1818182\n",
      "[2,] 0.8181818 0.1818182\n",
      "Matriz de probabilidades de transición a n= 22 pasos \n",
      "          [,1]      [,2]\n",
      "[1,] 0.8181818 0.1818182\n",
      "[2,] 0.8181818 0.1818182\n",
      "Matriz de probabilidades de transición a n= 23 pasos \n",
      "          [,1]      [,2]\n",
      "[1,] 0.8181818 0.1818182\n",
      "[2,] 0.8181818 0.1818182\n",
      "Matriz de probabilidades de transición a n= 24 pasos \n",
      "          [,1]      [,2]\n",
      "[1,] 0.8181818 0.1818182\n",
      "[2,] 0.8181818 0.1818182\n",
      "Matriz de probabilidades de transición a n= 25 pasos \n",
      "          [,1]      [,2]\n",
      "[1,] 0.8181818 0.1818182\n",
      "[2,] 0.8181818 0.1818182\n",
      "Matriz de probabilidades de transición a n= 26 pasos \n",
      "          [,1]      [,2]\n",
      "[1,] 0.8181818 0.1818182\n",
      "[2,] 0.8181818 0.1818182\n",
      "Matriz de probabilidades de transición a n= 27 pasos \n",
      "          [,1]      [,2]\n",
      "[1,] 0.8181818 0.1818182\n",
      "[2,] 0.8181818 0.1818182\n",
      "Matriz de probabilidades de transición a n= 28 pasos \n",
      "          [,1]      [,2]\n",
      "[1,] 0.8181818 0.1818182\n",
      "[2,] 0.8181818 0.1818182\n",
      "Matriz de probabilidades de transición a n= 29 pasos \n",
      "          [,1]      [,2]\n",
      "[1,] 0.8181818 0.1818182\n",
      "[2,] 0.8181818 0.1818182\n",
      "Matriz de probabilidades de transición a n= 30 pasos \n",
      "          [,1]      [,2]\n",
      "[1,] 0.8181818 0.1818182\n",
      "[2,] 0.8181818 0.1818182\n"
     ]
    }
   ],
   "source": [
    "n.max = 30\n",
    "for(i in 1:n.max){\n",
    "    Pn <- mat.pow(P, n=i)\n",
    "    cat(paste('Matriz de probabilidades de transición a n= ', i, ' pasos \\n', sep=''))\n",
    "    print(Pn)\n",
    "}"
   ]
  },
  {
   "cell_type": "markdown",
   "metadata": {},
   "source": [
    "Del resultado anterior podemos observar que para $n=30$\n",
    "$$P_{1,1}=P_{2,1}=0.818181$$ \n",
    "tienen el mismo valor, y caso similar sucede con \n",
    "$$P_{1,2} = P_{2,2}= 0.181818$$  "
   ]
  },
  {
   "cell_type": "markdown",
   "metadata": {},
   "source": [
    "Lo cual nos hace suponer que la cadena tendrá las mismas probabilidades de transición para n pasos sucesisvos mayores a $30$."
   ]
  },
  {
   "cell_type": "markdown",
   "metadata": {},
   "source": [
    "Para corroborar el resultado anterior, vamos a emplear el resultado que encontramos al inicio cuando $n \\rightarrow \\infty$\n",
    "\\begin{equation}\n",
    "\\textbf{P}^{(n)} = \n",
    "\\frac{1}{a+b}\n",
    "\\begin{pmatrix}\n",
    "b  & a \\\\\n",
    "b    & a\n",
    "\\end{pmatrix}\n",
    "\\end{equation}"
   ]
  },
  {
   "cell_type": "code",
   "execution_count": 33,
   "metadata": {},
   "outputs": [],
   "source": [
    "# Definimos\n",
    "a <- 0.1  # a>0\n",
    "b <- 0.45 # b<1"
   ]
  },
  {
   "cell_type": "code",
   "execution_count": 38,
   "metadata": {},
   "outputs": [
    {
     "name": "stdout",
     "output_type": "stream",
     "text": [
      "p11 = 0.818181818181818\n",
      "p12 = 0.181818181818182"
     ]
    }
   ],
   "source": [
    "p11 =  b/(a+b)\n",
    "cat(paste('p11 = ', p11, '\\n',sep=''))\n",
    "p12 = a/(a+b)\n",
    "cat(paste('p12 = ', p12,sep=''))"
   ]
  },
  {
   "cell_type": "markdown",
   "metadata": {},
   "source": [
    "\\begin{equation}\n",
    "\\textbf{P}^{(n)} = \n",
    "\\frac{1}{0.55}\n",
    "\\begin{pmatrix}\n",
    "0.45  & 0.1 \\\\\n",
    "0.45    & 0.1\n",
    "\\end{pmatrix}\n",
    "=\n",
    "\\begin{pmatrix}\n",
    "0.81818181  & 0.18181818 \\\\\n",
    "0.81818181  & 0.18181818\n",
    "\\end{pmatrix}\n",
    "\\end{equation}"
   ]
  },
  {
   "cell_type": "markdown",
   "metadata": {},
   "source": [
    "# Ejemplo: (Diagonalizando)\n",
    "\n"
   ]
  },
  {
   "cell_type": "code",
   "execution_count": 6,
   "metadata": {},
   "outputs": [],
   "source": [
    "# Definimos\n",
    "a <- 0.1  # a>0\n",
    "b <- 0.45 # b<1"
   ]
  },
  {
   "cell_type": "code",
   "execution_count": 7,
   "metadata": {},
   "outputs": [
    {
     "name": "stdout",
     "output_type": "stream",
     "text": [
      "     [,1] [,2]\n",
      "[1,] 0.90 0.10\n",
      "[2,] 0.45 0.55\n"
     ]
    }
   ],
   "source": [
    "# definimos nuestra matriz\n",
    "P <- matrix(c(1-a, a, b, 1-b), ncol=2, byrow = TRUE)\n",
    "print(P)"
   ]
  },
  {
   "cell_type": "code",
   "execution_count": 8,
   "metadata": {},
   "outputs": [
    {
     "name": "stdout",
     "output_type": "stream",
     "text": [
      "eigen() decomposition\n",
      "$values\n",
      "[1] 1.00 0.45\n",
      "\n",
      "$vectors\n",
      "          [,1]       [,2]\n",
      "[1,] 0.7071068 -0.2169305\n",
      "[2,] 0.7071068  0.9761871\n",
      "\n"
     ]
    }
   ],
   "source": [
    "# Función eigen() nos devuelve una lista con eigen valores y eigenvectores\n",
    "E <- eigen(P)\n",
    "print(E)"
   ]
  },
  {
   "cell_type": "code",
   "execution_count": 9,
   "metadata": {},
   "outputs": [
    {
     "name": "stdout",
     "output_type": "stream",
     "text": [
      "          [,1]       [,2]\n",
      "[1,] 0.7071068 -0.2169305\n",
      "[2,] 0.7071068  0.9761871\n"
     ]
    }
   ],
   "source": [
    "# extraemos los eigenvectores\n",
    "Q <- E$vectors\n",
    "print(Q)"
   ]
  },
  {
   "cell_type": "code",
   "execution_count": 10,
   "metadata": {},
   "outputs": [
    {
     "name": "stdout",
     "output_type": "stream",
     "text": [
      "           [,1]      [,2]\n",
      "[1,]  1.1570838 0.2571297\n",
      "[2,] -0.8381404 0.8381404\n"
     ]
    }
   ],
   "source": [
    "# Obtenemos la inversa de Q\n",
    "Q.inversa <- solve(Q)\n",
    "print(Q.inversa)"
   ]
  },
  {
   "cell_type": "code",
   "execution_count": 11,
   "metadata": {},
   "outputs": [
    {
     "name": "stdout",
     "output_type": "stream",
     "text": [
      "     [,1] [,2]\n",
      "[1,]    1 0.00\n",
      "[2,]    0 0.45\n"
     ]
    }
   ],
   "source": [
    "# Extraemos los eigenvalores y formamos la matriz diagonal\n",
    "D <- diag(E$values)\n",
    "print(D)"
   ]
  },
  {
   "cell_type": "markdown",
   "metadata": {},
   "source": [
    " Comprobamos con la matriz de transición de un paso"
   ]
  },
  {
   "cell_type": "code",
   "execution_count": 12,
   "metadata": {},
   "outputs": [
    {
     "name": "stdout",
     "output_type": "stream",
     "text": [
      "     [,1] [,2]\n",
      "[1,] 0.90 0.10\n",
      "[2,] 0.45 0.55\n"
     ]
    }
   ],
   "source": [
    "P = Q%*%D%*%Q.inversa\n",
    "print(P)"
   ]
  },
  {
   "cell_type": "markdown",
   "metadata": {},
   "source": [
    "## Ejemplo:"
   ]
  },
  {
   "cell_type": "markdown",
   "metadata": {},
   "source": [
    " Si queremos hallar la distribución en $n=30$ pasos\n",
    "\n",
    "es decir la probabilidad de que el estado se encuentre ya sea en el estado $j=0$ o $j=1$.Por lo que podemos emplear\n",
    "\n",
    "\\begin{equation}\n",
    "P_{j}^n = \\sum_{i} P_i^{0}  \\ P_{i,j}^{n}, \\text{ para }  j \\in S\n",
    "\\end{equation}\n",
    "en otros términos\n",
    "\\begin{equation}\n",
    "P^n = P^{0} \\ \\textbf{P}^{(n)}\n",
    "\\end{equation}\n",
    "donde:\n",
    "-  $P^{n}$  es el vector  de la distribución a n pasos $P^{n} = (P_{0}^{n}, P_{1}^{n})=(P(X_{n}=0), P(X_{n}=1))$\n",
    "-  $P^{0}$  es el vector  de la distribución inicial $P^0 = (P_{0}^0, P_{1}^0)=(P(X_{0}=0), P(X_{0}=1))$\n",
    "-  $\\textbf{P}$ es la matriz de transición de un paso"
   ]
  },
  {
   "cell_type": "code",
   "execution_count": 18,
   "metadata": {},
   "outputs": [
    {
     "name": "stdout",
     "output_type": "stream",
     "text": [
      "          [,1]      [,2]\n",
      "[1,] 0.8181818 0.1818182\n",
      "[2,] 0.8181818 0.1818182\n"
     ]
    }
   ],
   "source": [
    "P30 <- Q%*%mat.pow(D, n=30)%*%Q.inversa\n",
    "print(P30)"
   ]
  },
  {
   "cell_type": "markdown",
   "metadata": {},
   "source": [
    "Y la distribución suponiendo $P_0^0 = 1$, es decir $P^0 = (1, 0)$, por lo que "
   ]
  },
  {
   "cell_type": "code",
   "execution_count": 19,
   "metadata": {},
   "outputs": [
    {
     "name": "stdout",
     "output_type": "stream",
     "text": [
      "          [,1]      [,2]\n",
      "[1,] 0.8181818 0.1818182\n"
     ]
    }
   ],
   "source": [
    "p30 <- c(1,0) %*% P10\n",
    "print(p30)"
   ]
  },
  {
   "cell_type": "markdown",
   "metadata": {},
   "source": [
    "Es un resultado interesante por el hecho de que nos indica que para $n=30$ la transición a un estado no dpenderá de dónde se haya iniciado, es decir \n",
    "\n",
    "- $P_{i,1}^{30}= 0.8181818$, para $i \\in \\{0, 1\\}$\n",
    "- $P_{i,2}^{30}= 0.1818182$, para $i \\in \\{0, 1\\}$\n"
   ]
  }
 ],
 "metadata": {
  "kernelspec": {
   "display_name": "R",
   "language": "R",
   "name": "ir"
  },
  "language_info": {
   "codemirror_mode": "r",
   "file_extension": ".r",
   "mimetype": "text/x-r-source",
   "name": "R",
   "pygments_lexer": "r",
   "version": "4.1.0"
  }
 },
 "nbformat": 4,
 "nbformat_minor": 2
}
